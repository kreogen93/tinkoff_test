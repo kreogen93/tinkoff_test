{
 "cells": [
  {
   "cell_type": "code",
   "execution_count": 1,
   "id": "bf346f4b",
   "metadata": {},
   "outputs": [],
   "source": [
    "import warnings\n",
    "warnings.filterwarnings('ignore')\n",
    "\n",
    "import numpy as np\n",
    "import pandas as pd\n",
    "import matplotlib as mlp\n",
    "import matplotlib.pyplot as plt"
   ]
  },
  {
   "cell_type": "markdown",
   "id": "49e7ed50",
   "metadata": {},
   "source": [
    "## Знакомство с данными"
   ]
  },
  {
   "cell_type": "code",
   "execution_count": 2,
   "id": "48857103",
   "metadata": {},
   "outputs": [
    {
     "data": {
      "text/html": [
       "<div>\n",
       "<style scoped>\n",
       "    .dataframe tbody tr th:only-of-type {\n",
       "        vertical-align: middle;\n",
       "    }\n",
       "\n",
       "    .dataframe tbody tr th {\n",
       "        vertical-align: top;\n",
       "    }\n",
       "\n",
       "    .dataframe thead th {\n",
       "        text-align: right;\n",
       "    }\n",
       "</style>\n",
       "<table border=\"1\" class=\"dataframe\">\n",
       "  <thead>\n",
       "    <tr style=\"text-align: right;\">\n",
       "      <th></th>\n",
       "      <th>id</th>\n",
       "      <th>release</th>\n",
       "      <th>n_0000</th>\n",
       "      <th>n_0001</th>\n",
       "      <th>n_0002</th>\n",
       "      <th>n_0003</th>\n",
       "      <th>n_0004</th>\n",
       "      <th>n_0005</th>\n",
       "      <th>n_0006</th>\n",
       "      <th>n_0007</th>\n",
       "      <th>...</th>\n",
       "      <th>c_1368</th>\n",
       "      <th>c_1369</th>\n",
       "      <th>c_1370</th>\n",
       "      <th>c_1371</th>\n",
       "      <th>c_1372</th>\n",
       "      <th>c_1373</th>\n",
       "      <th>c_1374</th>\n",
       "      <th>c_1375</th>\n",
       "      <th>c_1376</th>\n",
       "      <th>c_1377</th>\n",
       "    </tr>\n",
       "  </thead>\n",
       "  <tbody>\n",
       "    <tr>\n",
       "      <th>0</th>\n",
       "      <td>11193</td>\n",
       "      <td>a</td>\n",
       "      <td>NaN</td>\n",
       "      <td>NaN</td>\n",
       "      <td>0.025449</td>\n",
       "      <td>NaN</td>\n",
       "      <td>NaN</td>\n",
       "      <td>0.368421</td>\n",
       "      <td>NaN</td>\n",
       "      <td>NaN</td>\n",
       "      <td>...</td>\n",
       "      <td>NaN</td>\n",
       "      <td>NaN</td>\n",
       "      <td>NaN</td>\n",
       "      <td>NaN</td>\n",
       "      <td>a</td>\n",
       "      <td>NaN</td>\n",
       "      <td>q</td>\n",
       "      <td>NaN</td>\n",
       "      <td>NaN</td>\n",
       "      <td>NaN</td>\n",
       "    </tr>\n",
       "    <tr>\n",
       "      <th>1</th>\n",
       "      <td>11382</td>\n",
       "      <td>a</td>\n",
       "      <td>NaN</td>\n",
       "      <td>NaN</td>\n",
       "      <td>0.031297</td>\n",
       "      <td>NaN</td>\n",
       "      <td>NaN</td>\n",
       "      <td>0.315789</td>\n",
       "      <td>NaN</td>\n",
       "      <td>NaN</td>\n",
       "      <td>...</td>\n",
       "      <td>NaN</td>\n",
       "      <td>NaN</td>\n",
       "      <td>a</td>\n",
       "      <td>NaN</td>\n",
       "      <td>a</td>\n",
       "      <td>NaN</td>\n",
       "      <td>NaN</td>\n",
       "      <td>NaN</td>\n",
       "      <td>NaN</td>\n",
       "      <td>NaN</td>\n",
       "    </tr>\n",
       "    <tr>\n",
       "      <th>2</th>\n",
       "      <td>16531</td>\n",
       "      <td>a</td>\n",
       "      <td>NaN</td>\n",
       "      <td>NaN</td>\n",
       "      <td>0.024475</td>\n",
       "      <td>NaN</td>\n",
       "      <td>NaN</td>\n",
       "      <td>0.342105</td>\n",
       "      <td>NaN</td>\n",
       "      <td>NaN</td>\n",
       "      <td>...</td>\n",
       "      <td>NaN</td>\n",
       "      <td>NaN</td>\n",
       "      <td>a</td>\n",
       "      <td>NaN</td>\n",
       "      <td>a</td>\n",
       "      <td>NaN</td>\n",
       "      <td>b</td>\n",
       "      <td>NaN</td>\n",
       "      <td>NaN</td>\n",
       "      <td>NaN</td>\n",
       "    </tr>\n",
       "    <tr>\n",
       "      <th>3</th>\n",
       "      <td>1896</td>\n",
       "      <td>a</td>\n",
       "      <td>NaN</td>\n",
       "      <td>NaN</td>\n",
       "      <td>0.041694</td>\n",
       "      <td>NaN</td>\n",
       "      <td>NaN</td>\n",
       "      <td>0.447368</td>\n",
       "      <td>NaN</td>\n",
       "      <td>NaN</td>\n",
       "      <td>...</td>\n",
       "      <td>NaN</td>\n",
       "      <td>NaN</td>\n",
       "      <td>NaN</td>\n",
       "      <td>NaN</td>\n",
       "      <td>a</td>\n",
       "      <td>NaN</td>\n",
       "      <td>NaN</td>\n",
       "      <td>NaN</td>\n",
       "      <td>NaN</td>\n",
       "      <td>NaN</td>\n",
       "    </tr>\n",
       "    <tr>\n",
       "      <th>4</th>\n",
       "      <td>18262</td>\n",
       "      <td>c</td>\n",
       "      <td>NaN</td>\n",
       "      <td>NaN</td>\n",
       "      <td>0.038120</td>\n",
       "      <td>NaN</td>\n",
       "      <td>NaN</td>\n",
       "      <td>0.315789</td>\n",
       "      <td>NaN</td>\n",
       "      <td>NaN</td>\n",
       "      <td>...</td>\n",
       "      <td>NaN</td>\n",
       "      <td>NaN</td>\n",
       "      <td>b</td>\n",
       "      <td>NaN</td>\n",
       "      <td>a</td>\n",
       "      <td>NaN</td>\n",
       "      <td>a</td>\n",
       "      <td>NaN</td>\n",
       "      <td>NaN</td>\n",
       "      <td>NaN</td>\n",
       "    </tr>\n",
       "  </tbody>\n",
       "</table>\n",
       "<p>5 rows × 1379 columns</p>\n",
       "</div>"
      ],
      "text/plain": [
       "      id release  n_0000  n_0001    n_0002  n_0003  n_0004    n_0005  n_0006  \\\n",
       "0  11193       a     NaN     NaN  0.025449     NaN     NaN  0.368421     NaN   \n",
       "1  11382       a     NaN     NaN  0.031297     NaN     NaN  0.315789     NaN   \n",
       "2  16531       a     NaN     NaN  0.024475     NaN     NaN  0.342105     NaN   \n",
       "3   1896       a     NaN     NaN  0.041694     NaN     NaN  0.447368     NaN   \n",
       "4  18262       c     NaN     NaN  0.038120     NaN     NaN  0.315789     NaN   \n",
       "\n",
       "   n_0007  ...  c_1368  c_1369  c_1370  c_1371  c_1372  c_1373  c_1374  \\\n",
       "0     NaN  ...     NaN     NaN     NaN     NaN       a     NaN       q   \n",
       "1     NaN  ...     NaN     NaN       a     NaN       a     NaN     NaN   \n",
       "2     NaN  ...     NaN     NaN       a     NaN       a     NaN       b   \n",
       "3     NaN  ...     NaN     NaN     NaN     NaN       a     NaN     NaN   \n",
       "4     NaN  ...     NaN     NaN       b     NaN       a     NaN       a   \n",
       "\n",
       "   c_1375  c_1376  c_1377  \n",
       "0     NaN     NaN     NaN  \n",
       "1     NaN     NaN     NaN  \n",
       "2     NaN     NaN     NaN  \n",
       "3     NaN     NaN     NaN  \n",
       "4     NaN     NaN     NaN  \n",
       "\n",
       "[5 rows x 1379 columns]"
      ]
     },
     "execution_count": 2,
     "metadata": {},
     "output_type": "execute_result"
    }
   ],
   "source": [
    "df = pd.read_csv(\"ds_problem/problem_train.csv\")\n",
    "df.head()"
   ]
  },
  {
   "cell_type": "code",
   "execution_count": 3,
   "id": "f3c7dc74",
   "metadata": {},
   "outputs": [
    {
     "data": {
      "text/html": [
       "<div>\n",
       "<style scoped>\n",
       "    .dataframe tbody tr th:only-of-type {\n",
       "        vertical-align: middle;\n",
       "    }\n",
       "\n",
       "    .dataframe tbody tr th {\n",
       "        vertical-align: top;\n",
       "    }\n",
       "\n",
       "    .dataframe thead th {\n",
       "        text-align: right;\n",
       "    }\n",
       "</style>\n",
       "<table border=\"1\" class=\"dataframe\">\n",
       "  <thead>\n",
       "    <tr style=\"text-align: right;\">\n",
       "      <th></th>\n",
       "      <th>id</th>\n",
       "      <th>service_a</th>\n",
       "      <th>service_b</th>\n",
       "      <th>service_c</th>\n",
       "      <th>service_d</th>\n",
       "      <th>service_e</th>\n",
       "      <th>service_f</th>\n",
       "      <th>service_g</th>\n",
       "      <th>service_h</th>\n",
       "      <th>service_i</th>\n",
       "      <th>service_j</th>\n",
       "      <th>service_k</th>\n",
       "      <th>service_l</th>\n",
       "      <th>service_m</th>\n",
       "      <th>service_n</th>\n",
       "    </tr>\n",
       "  </thead>\n",
       "  <tbody>\n",
       "    <tr>\n",
       "      <th>0</th>\n",
       "      <td>11193</td>\n",
       "      <td>1</td>\n",
       "      <td>1</td>\n",
       "      <td>0</td>\n",
       "      <td>0</td>\n",
       "      <td>0</td>\n",
       "      <td>0</td>\n",
       "      <td>0</td>\n",
       "      <td>0</td>\n",
       "      <td>0</td>\n",
       "      <td>1</td>\n",
       "      <td>1</td>\n",
       "      <td>0</td>\n",
       "      <td>0</td>\n",
       "      <td>0</td>\n",
       "    </tr>\n",
       "    <tr>\n",
       "      <th>1</th>\n",
       "      <td>11382</td>\n",
       "      <td>0</td>\n",
       "      <td>0</td>\n",
       "      <td>0</td>\n",
       "      <td>0</td>\n",
       "      <td>0</td>\n",
       "      <td>0</td>\n",
       "      <td>0</td>\n",
       "      <td>0</td>\n",
       "      <td>0</td>\n",
       "      <td>1</td>\n",
       "      <td>1</td>\n",
       "      <td>0</td>\n",
       "      <td>0</td>\n",
       "      <td>0</td>\n",
       "    </tr>\n",
       "    <tr>\n",
       "      <th>2</th>\n",
       "      <td>16531</td>\n",
       "      <td>0</td>\n",
       "      <td>0</td>\n",
       "      <td>0</td>\n",
       "      <td>0</td>\n",
       "      <td>0</td>\n",
       "      <td>0</td>\n",
       "      <td>0</td>\n",
       "      <td>0</td>\n",
       "      <td>0</td>\n",
       "      <td>1</td>\n",
       "      <td>1</td>\n",
       "      <td>0</td>\n",
       "      <td>0</td>\n",
       "      <td>0</td>\n",
       "    </tr>\n",
       "    <tr>\n",
       "      <th>3</th>\n",
       "      <td>1896</td>\n",
       "      <td>0</td>\n",
       "      <td>0</td>\n",
       "      <td>0</td>\n",
       "      <td>1</td>\n",
       "      <td>0</td>\n",
       "      <td>0</td>\n",
       "      <td>0</td>\n",
       "      <td>0</td>\n",
       "      <td>0</td>\n",
       "      <td>1</td>\n",
       "      <td>0</td>\n",
       "      <td>1</td>\n",
       "      <td>0</td>\n",
       "      <td>0</td>\n",
       "    </tr>\n",
       "    <tr>\n",
       "      <th>4</th>\n",
       "      <td>18262</td>\n",
       "      <td>0</td>\n",
       "      <td>0</td>\n",
       "      <td>0</td>\n",
       "      <td>1</td>\n",
       "      <td>1</td>\n",
       "      <td>0</td>\n",
       "      <td>0</td>\n",
       "      <td>0</td>\n",
       "      <td>0</td>\n",
       "      <td>0</td>\n",
       "      <td>1</td>\n",
       "      <td>1</td>\n",
       "      <td>1</td>\n",
       "      <td>0</td>\n",
       "    </tr>\n",
       "  </tbody>\n",
       "</table>\n",
       "</div>"
      ],
      "text/plain": [
       "      id  service_a  service_b  service_c  service_d  service_e  service_f  \\\n",
       "0  11193          1          1          0          0          0          0   \n",
       "1  11382          0          0          0          0          0          0   \n",
       "2  16531          0          0          0          0          0          0   \n",
       "3   1896          0          0          0          1          0          0   \n",
       "4  18262          0          0          0          1          1          0   \n",
       "\n",
       "   service_g  service_h  service_i  service_j  service_k  service_l  \\\n",
       "0          0          0          0          1          1          0   \n",
       "1          0          0          0          1          1          0   \n",
       "2          0          0          0          1          1          0   \n",
       "3          0          0          0          1          0          1   \n",
       "4          0          0          0          0          1          1   \n",
       "\n",
       "   service_m  service_n  \n",
       "0          0          0  \n",
       "1          0          0  \n",
       "2          0          0  \n",
       "3          0          0  \n",
       "4          1          0  "
      ]
     },
     "execution_count": 3,
     "metadata": {},
     "output_type": "execute_result"
    }
   ],
   "source": [
    "df_target = pd.read_csv('ds_problem/problem_labels.csv')\n",
    "df_target.head()"
   ]
  },
  {
   "cell_type": "code",
   "execution_count": 4,
   "id": "6c98c11f",
   "metadata": {},
   "outputs": [
    {
     "name": "stdout",
     "output_type": "stream",
     "text": [
      "Top Absolute Correlations\n",
      "service_l  service_m    0.804081\n",
      "service_a  service_b    0.557859\n",
      "service_j  service_k    0.533591\n",
      "service_d  service_e    0.418327\n",
      "service_b  service_c    0.405167\n",
      "service_f  service_g    0.395226\n",
      "service_a  service_c    0.330330\n",
      "service_h  service_l    0.308826\n",
      "service_c  service_g    0.267283\n",
      "service_h  service_m    0.213137\n",
      "service_c  service_e    0.182957\n",
      "service_h  service_n    0.178128\n",
      "service_d  service_m    0.173341\n",
      "service_e  service_m    0.172998\n",
      "service_h  service_i    0.170898\n",
      "service_e  service_l    0.166700\n",
      "service_d  service_l    0.150511\n",
      "service_c  service_m    0.137605\n",
      "service_b  service_g    0.135366\n",
      "service_c  service_h    0.134676\n",
      "dtype: float64\n"
     ]
    }
   ],
   "source": [
    "def get_redundant_pairs(df):\n",
    "    pairs_to_drop = set()\n",
    "    cols = df.columns\n",
    "    for i in range(0, df.shape[1]):\n",
    "        for j in range(0, i+1):\n",
    "            pairs_to_drop.add((cols[i], cols[j]))\n",
    "    return pairs_to_drop\n",
    "\n",
    "def get_top_abs_correlations(df, n=5):\n",
    "    au_corr = df.corr().abs().unstack()\n",
    "    labels_to_drop = get_redundant_pairs(df)\n",
    "    au_corr = au_corr.drop(labels=labels_to_drop).sort_values(ascending=False)\n",
    "    return au_corr[0:n]\n",
    "\n",
    "print(\"Top Absolute Correlations\")\n",
    "print(get_top_abs_correlations(df_target.drop('id', axis=1), 20))"
   ]
  },
  {
   "cell_type": "code",
   "execution_count": 5,
   "id": "90382407",
   "metadata": {},
   "outputs": [
    {
     "name": "stdout",
     "output_type": "stream",
     "text": [
      "service_a 0.472125\n",
      "service_b 0.32825\n",
      "service_c 0.261625\n",
      "service_d 0.017\n",
      "service_e 0.053875\n",
      "service_f 0.029125\n",
      "service_g 0.051875\n",
      "service_h 0.297\n",
      "service_i 0.016125\n",
      "service_j 0.84825\n",
      "service_k 0.782\n",
      "service_l 0.108\n",
      "service_m 0.088625\n",
      "service_n 0.178\n"
     ]
    }
   ],
   "source": [
    "#Посмотрим на балансы классов\n",
    "for col in df_target.drop('id', axis=1).columns:\n",
    "    print(col, df_target[col].mean())"
   ]
  },
  {
   "cell_type": "code",
   "execution_count": 86,
   "id": "2d76727a",
   "metadata": {},
   "outputs": [
    {
     "data": {
      "text/plain": [
       "1285"
      ]
     },
     "execution_count": 86,
     "metadata": {},
     "output_type": "execute_result"
    }
   ],
   "source": [
    "#посмотрим на категориальные фичи\n",
    "cat_features = [col for col in df.columns if df[col].dtype == np.object]\n",
    "for col in df.drop('id', axis=1).columns:\n",
    "    if col not in cat_features and df[col].fillna(-1).\\\n",
    "                apply(lambda x: int(x) == x or int(x * 10) == x * 10).sum() == df.shape[0]:\n",
    "        cat_features.append(col)\n",
    "len(cat_features)"
   ]
  },
  {
   "cell_type": "markdown",
   "id": "31ebf35f",
   "metadata": {},
   "source": [
    "## обработка пустых значений"
   ]
  },
  {
   "cell_type": "markdown",
   "id": "89feeebb",
   "metadata": {},
   "source": [
    "Разделим выборку на треин и тест. Обучим бейзлайновую модель с заполнением пропусков константой  "
   ]
  },
  {
   "cell_type": "code",
   "execution_count": 9,
   "id": "faa94c47",
   "metadata": {},
   "outputs": [],
   "source": [
    "def fitiing_base_model(df, df_target, cat_features=[]):\n",
    "    for col in df_target.drop('id', axis=1).columns:\n",
    "        df_train, df_test = train_test_split(\n",
    "            df,\n",
    "            test_size=0.25,\n",
    "            stratify=df_target[col]\n",
    "        )\n",
    "        model = CatBoostClassifier(iterations=50, cat_features=cat_features)\n",
    "        train = df_train.merge(df_target[['id', col]], on='id', how='inner')\n",
    "        X, y = train.drop([col, 'id'], axis=1), train[col]\n",
    "        model.fit(X, y, verbose=False)\n",
    "        scores_train.append(log_loss(y, model.predict_proba(X)[:, 1]))\n",
    "        test = df_test.merge(df_target[['id', col]], on='id', how='inner')\n",
    "        X, y = test.drop([col, 'id'], axis=1), test[col]\n",
    "        scores_test.append(log_loss(y, model.predict_proba(X)[:, 1]))\n",
    "    return (np.mean(scores_train), np.mean(scores_test))"
   ]
  },
  {
   "cell_type": "code",
   "execution_count": 48,
   "id": "64ea2f2a",
   "metadata": {},
   "outputs": [],
   "source": [
    "from sklearn.model_selection import train_test_split\n",
    "from catboost import CatBoostClassifier\n",
    "from sklearn.metrics import log_loss\n",
    "\n",
    "scores_train = []\n",
    "scores_test = []\n",
    "df_const = df.fillna(-1)\n",
    "\n",
    "train_score, test_score = fitiing_base_model(df_const, df_target, cat_features)"
   ]
  },
  {
   "cell_type": "code",
   "execution_count": 49,
   "id": "0da8a2a8",
   "metadata": {},
   "outputs": [
    {
     "name": "stdout",
     "output_type": "stream",
     "text": [
      "Среднее качество на треине 0.2085793740695717\n",
      "Среднее качество на тесте 0.26844190615770963\n"
     ]
    }
   ],
   "source": [
    "print('Среднее качество на треине', train_score)\n",
    "print('Среднее качество на тесте', test_score)"
   ]
  },
  {
   "cell_type": "markdown",
   "id": "77288ce7",
   "metadata": {},
   "source": [
    "Проведем эксперименты с колонками, у которых разреженность не более 0.95"
   ]
  },
  {
   "cell_type": "code",
   "execution_count": 97,
   "id": "be2c1dce",
   "metadata": {},
   "outputs": [
    {
     "data": {
      "text/plain": [
       "(8000, 609)"
      ]
     },
     "execution_count": 97,
     "metadata": {},
     "output_type": "execute_result"
    }
   ],
   "source": [
    "df_clear = df.copy()\n",
    "for col in df.columns:\n",
    "    if df_clear[col].isna().sum() / df_clear.shape[0] >= 0.95:\n",
    "        df_clear = df_clear.drop(col, axis=1)\n",
    "        if col in cat_features:\n",
    "            cat_features.remove(col)\n",
    "df_clear.shape"
   ]
  },
  {
   "cell_type": "code",
   "execution_count": 55,
   "id": "00a9b016",
   "metadata": {},
   "outputs": [],
   "source": [
    "for col in cat_features:\n",
    "    if df_clear[col].value_counts().shape[0] < 2:\n",
    "        print(col)"
   ]
  },
  {
   "cell_type": "code",
   "execution_count": 57,
   "id": "bba756a9",
   "metadata": {},
   "outputs": [
    {
     "data": {
      "text/plain": [
       "b    1489\n",
       "Name: c_1078, dtype: int64"
      ]
     },
     "execution_count": 57,
     "metadata": {},
     "output_type": "execute_result"
    }
   ],
   "source": [
    "df['c_1078'].value_counts()"
   ]
  },
  {
   "cell_type": "code",
   "execution_count": 65,
   "id": "b7ef8587",
   "metadata": {},
   "outputs": [
    {
     "data": {
      "text/plain": [
       "[<matplotlib.lines.Line2D at 0x1f79d707160>]"
      ]
     },
     "execution_count": 65,
     "metadata": {},
     "output_type": "execute_result"
    },
    {
     "data": {
      "image/png": "[encoded data removed]",
      "text/plain": [
       "<Figure size 1008x864 with 1 Axes>"
      ]
     },
     "metadata": {
      "needs_background": "light"
     },
     "output_type": "display_data"
    }
   ],
   "source": [
    "fig = plt.figure()\n",
    "fig.set_size_inches(14, 12)\n",
    "\n",
    "mean = df[df['c_1078'] == 'b'][['id', 'c_1078']].merge(df_target, on='id', how='inner').drop('id', axis=1).mean()\n",
    "\n",
    "plt.plot(range(1, 15), mean)"
   ]
  },
  {
   "cell_type": "code",
   "execution_count": 98,
   "id": "344f2037",
   "metadata": {},
   "outputs": [],
   "source": [
    "#В целом фича дает сильно разные конверсии, поэтому не будем ее удалять, а обработаем\n",
    "df_clear['c_1078'] = df_clear['c_1078'].map({'b' : 1}).fillna(0)"
   ]
  },
  {
   "cell_type": "code",
   "execution_count": 96,
   "id": "b706ddbb",
   "metadata": {},
   "outputs": [],
   "source": [
    "#!pip install category_encoders\n",
    "import category_encoders as ce\n",
    "from sklearn.decomposition import PCA\n",
    "\n",
    "\n",
    "def target_encode(df, col, y):\n",
    "    class_names=y.columns\n",
    "    \n",
    "    clasters = pd.DataFrame()\n",
    "    for class_ in class_names:\n",
    "        temp = pd.DataFrame()\n",
    "        mean = df.merge(y, on='id', how='inner').groupby(col)[class_].mean()\n",
    "        temp[col + class_] = df[col].map(mean)\n",
    "        clasters = pd.concat([clasters, temp], axis=1)\n",
    "    clasters = clasters.to_numpy()\n",
    "    pca = PCA(n_components=4)\n",
    "    pca_decomp = pd.DataFrame(pca.fit_transform(clasters), columns = [col + str(i) for i in range(4)])\n",
    "    df = df.drop(col, axis=1)\n",
    "    df=pd.concat([df, pca_decomp], axis=1)    \n",
    "\n",
    "    return df"
   ]
  },
  {
   "cell_type": "markdown",
   "id": "800fe091",
   "metadata": {},
   "source": [
    "Будем обрабатывать категориальные значения по следующему правилу: если не более 4 уникальных значений, то буду делать заполнение пропусков модой и затем One-Hot-Encoding, иначе буду обрабатывать Target-Encoding с заполнением пропусков модой. Здесь можно провести очень много разных экспериментов. Но попытаемся по логике принять на веру, что это лучший вариант"
   ]
  },
  {
   "cell_type": "code",
   "execution_count": 99,
   "id": "124c37dc",
   "metadata": {},
   "outputs": [],
   "source": [
    "for col in cat_features:\n",
    "    if df_clear[col].value_counts().shape[0] <= 4:\n",
    "        df_clear[col] = df_clear[col].fillna(df_clear[col].value_counts().index[0])\n",
    "        one_hot = pd.get_dummies(df_clear[col], prefix=col, drop_first=True)\n",
    "        df_clear = pd.concat((df_clear.drop(col, axis=1), one_hot), axis=1)\n",
    "    else:\n",
    "        df_clear[col] = df_clear[col].fillna(df_clear[col].value_counts().index[0])\n",
    "        if df_clear[col].dtype != np.object:\n",
    "            df_clear[col] = df_clear[col].astype(np.int64)\n",
    "        df_clear = target_encode(df_clear, col, df_target)\n",
    "        "
   ]
  },
  {
   "cell_type": "code",
   "execution_count": 100,
   "id": "75272227",
   "metadata": {},
   "outputs": [
    {
     "data": {
      "text/html": [
       "<div>\n",
       "<style scoped>\n",
       "    .dataframe tbody tr th:only-of-type {\n",
       "        vertical-align: middle;\n",
       "    }\n",
       "\n",
       "    .dataframe tbody tr th {\n",
       "        vertical-align: top;\n",
       "    }\n",
       "\n",
       "    .dataframe thead th {\n",
       "        text-align: right;\n",
       "    }\n",
       "</style>\n",
       "<table border=\"1\" class=\"dataframe\">\n",
       "  <thead>\n",
       "    <tr style=\"text-align: right;\">\n",
       "      <th></th>\n",
       "      <th>id</th>\n",
       "      <th>n_0002</th>\n",
       "      <th>n_0005</th>\n",
       "      <th>n_0007</th>\n",
       "      <th>n_0012</th>\n",
       "      <th>n_0015</th>\n",
       "      <th>n_0017</th>\n",
       "      <th>n_0020</th>\n",
       "      <th>n_0025</th>\n",
       "      <th>n_0027</th>\n",
       "      <th>...</th>\n",
       "      <th>o_03193</th>\n",
       "      <th>o_0323_1.0</th>\n",
       "      <th>o_0323_2.0</th>\n",
       "      <th>o_0323_3.0</th>\n",
       "      <th>o_0324_1.0</th>\n",
       "      <th>o_0324_2.0</th>\n",
       "      <th>o_03260</th>\n",
       "      <th>o_03261</th>\n",
       "      <th>o_03262</th>\n",
       "      <th>o_03263</th>\n",
       "    </tr>\n",
       "  </thead>\n",
       "  <tbody>\n",
       "    <tr>\n",
       "      <th>0</th>\n",
       "      <td>11193</td>\n",
       "      <td>0.025449</td>\n",
       "      <td>0.368421</td>\n",
       "      <td>NaN</td>\n",
       "      <td>0.292683</td>\n",
       "      <td>NaN</td>\n",
       "      <td>NaN</td>\n",
       "      <td>NaN</td>\n",
       "      <td>NaN</td>\n",
       "      <td>NaN</td>\n",
       "      <td>...</td>\n",
       "      <td>0.000387</td>\n",
       "      <td>0</td>\n",
       "      <td>0</td>\n",
       "      <td>0</td>\n",
       "      <td>1</td>\n",
       "      <td>0</td>\n",
       "      <td>-11.559747</td>\n",
       "      <td>-0.018034</td>\n",
       "      <td>-0.000986</td>\n",
       "      <td>-0.000974</td>\n",
       "    </tr>\n",
       "    <tr>\n",
       "      <th>1</th>\n",
       "      <td>11382</td>\n",
       "      <td>0.031297</td>\n",
       "      <td>0.315789</td>\n",
       "      <td>NaN</td>\n",
       "      <td>0.243902</td>\n",
       "      <td>NaN</td>\n",
       "      <td>NaN</td>\n",
       "      <td>NaN</td>\n",
       "      <td>NaN</td>\n",
       "      <td>NaN</td>\n",
       "      <td>...</td>\n",
       "      <td>0.000387</td>\n",
       "      <td>0</td>\n",
       "      <td>0</td>\n",
       "      <td>0</td>\n",
       "      <td>1</td>\n",
       "      <td>0</td>\n",
       "      <td>-11.559747</td>\n",
       "      <td>-0.018034</td>\n",
       "      <td>-0.000986</td>\n",
       "      <td>-0.000974</td>\n",
       "    </tr>\n",
       "    <tr>\n",
       "      <th>2</th>\n",
       "      <td>16531</td>\n",
       "      <td>0.024475</td>\n",
       "      <td>0.342105</td>\n",
       "      <td>NaN</td>\n",
       "      <td>0.304878</td>\n",
       "      <td>NaN</td>\n",
       "      <td>NaN</td>\n",
       "      <td>NaN</td>\n",
       "      <td>NaN</td>\n",
       "      <td>NaN</td>\n",
       "      <td>...</td>\n",
       "      <td>0.000387</td>\n",
       "      <td>0</td>\n",
       "      <td>0</td>\n",
       "      <td>0</td>\n",
       "      <td>1</td>\n",
       "      <td>0</td>\n",
       "      <td>-11.559747</td>\n",
       "      <td>-0.018034</td>\n",
       "      <td>-0.000986</td>\n",
       "      <td>-0.000974</td>\n",
       "    </tr>\n",
       "    <tr>\n",
       "      <th>3</th>\n",
       "      <td>1896</td>\n",
       "      <td>0.041694</td>\n",
       "      <td>0.447368</td>\n",
       "      <td>NaN</td>\n",
       "      <td>0.207317</td>\n",
       "      <td>NaN</td>\n",
       "      <td>NaN</td>\n",
       "      <td>NaN</td>\n",
       "      <td>NaN</td>\n",
       "      <td>NaN</td>\n",
       "      <td>...</td>\n",
       "      <td>0.000387</td>\n",
       "      <td>0</td>\n",
       "      <td>0</td>\n",
       "      <td>0</td>\n",
       "      <td>1</td>\n",
       "      <td>0</td>\n",
       "      <td>-11.559747</td>\n",
       "      <td>-0.018034</td>\n",
       "      <td>-0.000986</td>\n",
       "      <td>-0.000974</td>\n",
       "    </tr>\n",
       "    <tr>\n",
       "      <th>4</th>\n",
       "      <td>18262</td>\n",
       "      <td>0.038120</td>\n",
       "      <td>0.315789</td>\n",
       "      <td>NaN</td>\n",
       "      <td>0.219512</td>\n",
       "      <td>NaN</td>\n",
       "      <td>0.388889</td>\n",
       "      <td>NaN</td>\n",
       "      <td>0.0</td>\n",
       "      <td>NaN</td>\n",
       "      <td>...</td>\n",
       "      <td>0.000387</td>\n",
       "      <td>0</td>\n",
       "      <td>0</td>\n",
       "      <td>0</td>\n",
       "      <td>1</td>\n",
       "      <td>0</td>\n",
       "      <td>-11.559747</td>\n",
       "      <td>-0.018034</td>\n",
       "      <td>-0.000986</td>\n",
       "      <td>-0.000974</td>\n",
       "    </tr>\n",
       "  </tbody>\n",
       "</table>\n",
       "<p>5 rows × 1473 columns</p>\n",
       "</div>"
      ],
      "text/plain": [
       "      id    n_0002    n_0005  n_0007    n_0012  n_0015    n_0017  n_0020  \\\n",
       "0  11193  0.025449  0.368421     NaN  0.292683     NaN       NaN     NaN   \n",
       "1  11382  0.031297  0.315789     NaN  0.243902     NaN       NaN     NaN   \n",
       "2  16531  0.024475  0.342105     NaN  0.304878     NaN       NaN     NaN   \n",
       "3   1896  0.041694  0.447368     NaN  0.207317     NaN       NaN     NaN   \n",
       "4  18262  0.038120  0.315789     NaN  0.219512     NaN  0.388889     NaN   \n",
       "\n",
       "   n_0025  n_0027  ...   o_03193  o_0323_1.0  o_0323_2.0  o_0323_3.0  \\\n",
       "0     NaN     NaN  ...  0.000387           0           0           0   \n",
       "1     NaN     NaN  ...  0.000387           0           0           0   \n",
       "2     NaN     NaN  ...  0.000387           0           0           0   \n",
       "3     NaN     NaN  ...  0.000387           0           0           0   \n",
       "4     0.0     NaN  ...  0.000387           0           0           0   \n",
       "\n",
       "   o_0324_1.0  o_0324_2.0    o_03260   o_03261   o_03262   o_03263  \n",
       "0           1           0 -11.559747 -0.018034 -0.000986 -0.000974  \n",
       "1           1           0 -11.559747 -0.018034 -0.000986 -0.000974  \n",
       "2           1           0 -11.559747 -0.018034 -0.000986 -0.000974  \n",
       "3           1           0 -11.559747 -0.018034 -0.000986 -0.000974  \n",
       "4           1           0 -11.559747 -0.018034 -0.000986 -0.000974  \n",
       "\n",
       "[5 rows x 1473 columns]"
      ]
     },
     "execution_count": 100,
     "metadata": {},
     "output_type": "execute_result"
    }
   ],
   "source": [
    "df_clear.head()"
   ]
  },
  {
   "cell_type": "code",
   "execution_count": 101,
   "id": "b87b77cb",
   "metadata": {},
   "outputs": [
    {
     "name": "stdout",
     "output_type": "stream",
     "text": [
      "Среднее качество на треине 0.19086954307004128\n",
      "Среднее качество на тесте 0.2770362816774254\n"
     ]
    }
   ],
   "source": [
    "#Отправим на самостоятельное заполнение пропусков catboost \n",
    "train_score, test_score = fitiing_base_model(df_clear, df_target)\n",
    "\n",
    "print('Среднее качество на треине', train_score)\n",
    "print('Среднее качество на тесте', test_score)"
   ]
  },
  {
   "cell_type": "markdown",
   "id": "74444be7",
   "metadata": {},
   "source": [
    "Заполнение пропусков средним значением"
   ]
  },
  {
   "cell_type": "code",
   "execution_count": 103,
   "id": "7a699283",
   "metadata": {},
   "outputs": [],
   "source": [
    "df_med = df_clear.copy()\n",
    "for col in df_med.drop('id', axis=1).columns:\n",
    "    df_med[col] = df_med[col].fillna(df_med[col].mean())\n",
    "    \n",
    "train_score, test_score = fitiing_base_model(df_med, df_target)"
   ]
  },
  {
   "cell_type": "code",
   "execution_count": 22,
   "id": "45e92ff5",
   "metadata": {},
   "outputs": [
    {
     "name": "stdout",
     "output_type": "stream",
     "text": [
      "Среднее качество на треине 0.19143225158322896\n",
      "Среднее качество на тесте 0.2803081832180803\n"
     ]
    }
   ],
   "source": [
    "print('Среднее качество на треине', train_score)\n",
    "print('Среднее качество на тесте', test_score)"
   ]
  },
  {
   "cell_type": "markdown",
   "id": "0a19bf7e",
   "metadata": {},
   "source": [
    "Заполнение при помощи линейной регрессии"
   ]
  },
  {
   "cell_type": "code",
   "execution_count": 88,
   "id": "3ebbded7",
   "metadata": {},
   "outputs": [],
   "source": [
    "from sklearn.linear_model import LinearRegression\n",
    "def linreg_imputer(df):\n",
    "    for col in df.drop('id', axis=1).columns:\n",
    " \n",
    "        if df[col].isna().sum() == 0:\n",
    "            continue\n",
    "        # обучающей выборкой будут строки без пропусков\n",
    "        train = df.dropna().copy()\n",
    "        # тестовой (или вернее выборкой для заполнения пропусков)\n",
    "        # будут те строки, в которых пропуски есть\n",
    "        test = df[df[col].isnull()].copy()\n",
    "\n",
    "        # выясним индекс столбца с пропусками\n",
    "        col_index = df.columns.get_loc(col)\n",
    "\n",
    "        # разделим \"целевую переменную\" и \"признаки\"\n",
    "        # обучающей выборки\n",
    "        y_train = train[col]\n",
    "        X_train = train.drop(col, axis = 1)\n",
    "\n",
    "        # из тестовой выборки удалим столбец с пропусками\n",
    "        test = test.drop(col, axis = 1)\n",
    "\n",
    "        # обучим модель линейной регрессии\n",
    "        model = LinearRegression()\n",
    "        model.fit(X_train, y_train)\n",
    "\n",
    "        # сделаем прогноз пропусков\n",
    "        y_pred = model.predict(test)\n",
    "        # вставим пропуски (value) на изначальное место (loc) столбца с пропусками (column)\n",
    "        test.insert(loc = col_index, column = col, value = y_pred)\n",
    "\n",
    "        # соединим датасеты и обновим индекс\n",
    "        df = pd.concat([train, test])\n",
    "        df.sort_index(inplace = True)\n",
    "\n",
    "    return df"
   ]
  },
  {
   "cell_type": "code",
   "execution_count": null,
   "id": "d2cfe6ef",
   "metadata": {},
   "outputs": [],
   "source": [
    "df_reg = linreg_imputer(df_clear)\n",
    "\n",
    "train_score, test_score = fitiing_base_model(df_reg, df_target)"
   ]
  },
  {
   "cell_type": "code",
   "execution_count": 108,
   "id": "6e1bfb75",
   "metadata": {},
   "outputs": [
    {
     "name": "stdout",
     "output_type": "stream",
     "text": [
      "Среднее качество на треине 0.49756156338291235\n",
      "Среднее качество на тесте 0.5675611234487564\n"
     ]
    }
   ],
   "source": [
    "print('Среднее качество на треине', train_score)\n",
    "print('Среднее качество на тесте', test_score)"
   ]
  },
  {
   "cell_type": "markdown",
   "id": "c080e55b",
   "metadata": {},
   "source": [
    "Заполнение при помощи mice"
   ]
  },
  {
   "cell_type": "code",
   "execution_count": null,
   "id": "0bf85299",
   "metadata": {},
   "outputs": [],
   "source": [
    "from sklearn.experimental import enable_iterative_imputer\n",
    "from sklearn.impute import IterativeImputer\n",
    "lr = LinearRegression()\n",
    "imp = IterativeImputer(estimator=lr,missing_values=np.nan, max_iter=10, verbose=2, imputation_order='roman',random_state=0)\n",
    "df_mice = imp.fit_transform(df_clear)\n",
    "\n",
    "df_mice = pd.concat([df_clear['id'], df_mice.iloc], axis = 1)\n",
    "train_score, test_score = fitiing_base_model(df_mice, df_target)"
   ]
  },
  {
   "cell_type": "code",
   "execution_count": null,
   "id": "149b40be",
   "metadata": {},
   "outputs": [],
   "source": [
    "print('Среднее качество на треине', train_score)\n",
    "print('Среднее качество на тесте', test_score)"
   ]
  },
  {
   "cell_type": "markdown",
   "id": "cc0fe512",
   "metadata": {},
   "source": [
    "Заполнение при помощи kNN"
   ]
  },
  {
   "cell_type": "code",
   "execution_count": 101,
   "id": "6bd4c2d7",
   "metadata": {},
   "outputs": [],
   "source": [
    "from sklearn.impute import KNNImputer\n",
    "knn = KNNImputer(n_neighbors=5, add_indicator=True)\n",
    "\n",
    "df_knn = df_clear.copy()\n",
    "knn.fit(df_knn)\n",
    "knn.transform(df_knn)\n",
    "\n",
    "train_score, test_score = fitiing_base_model(df_knn, df_target)"
   ]
  },
  {
   "cell_type": "code",
   "execution_count": 102,
   "id": "45bbb8c2",
   "metadata": {},
   "outputs": [
    {
     "name": "stdout",
     "output_type": "stream",
     "text": [
      "Среднее качество на треине 1.2069765763965212\n",
      "Среднее качество на тесте 2.309854718524335\n"
     ]
    }
   ],
   "source": [
    "print('Среднее качество на треине', train_score)\n",
    "print('Среднее качество на тесте', test_score)"
   ]
  },
  {
   "cell_type": "markdown",
   "id": "9b7f531b",
   "metadata": {},
   "source": [
    "Как вариант попробовать еще заполнение с помощью DataWig"
   ]
  },
  {
   "cell_type": "markdown",
   "id": "38cce803",
   "metadata": {},
   "source": [
    "## Понижение признакового пространства"
   ]
  },
  {
   "cell_type": "code",
   "execution_count": 104,
   "id": "e6536c6b",
   "metadata": {},
   "outputs": [],
   "source": [
    "#Уберем квазиконстантные признаки\n",
    "#Для начала отмасштабируем данные\n",
    "from sklearn.preprocessing import StandardScaler\n",
    "\n",
    "scaler = StandardScaler()\n",
    "scaler.fit(df_med.drop('id', axis=1))\n",
    "df_scaler = pd.DataFrame(scaler.transform(df_med.drop('id', axis=1)), columns = df_med.drop('id', axis=1).columns)\n",
    "df_scaler = pd.concat([df_med['id'], df_scaler], axis=1)"
   ]
  },
  {
   "cell_type": "code",
   "execution_count": 105,
   "id": "16884339",
   "metadata": {},
   "outputs": [
    {
     "data": {
      "text/plain": [
       "['n_00590']"
      ]
     },
     "execution_count": 105,
     "metadata": {},
     "output_type": "execute_result"
    }
   ],
   "source": [
    "del_columns = []\n",
    "for col in df_scaler.columns:\n",
    "    if col != 'id' and df_scaler[col].var() < 1.0001:\n",
    "        del_columns.append(col)\n",
    "del_columns"
   ]
  },
  {
   "cell_type": "code",
   "execution_count": 106,
   "id": "67c56224",
   "metadata": {},
   "outputs": [],
   "source": [
    "df_med = df_med.drop(del_columns, axis=1)"
   ]
  },
  {
   "cell_type": "code",
   "execution_count": 107,
   "id": "e818f627",
   "metadata": {},
   "outputs": [
    {
     "data": {
      "text/html": [
       "<div>\n",
       "<style scoped>\n",
       "    .dataframe tbody tr th:only-of-type {\n",
       "        vertical-align: middle;\n",
       "    }\n",
       "\n",
       "    .dataframe tbody tr th {\n",
       "        vertical-align: top;\n",
       "    }\n",
       "\n",
       "    .dataframe thead th {\n",
       "        text-align: right;\n",
       "    }\n",
       "</style>\n",
       "<table border=\"1\" class=\"dataframe\">\n",
       "  <thead>\n",
       "    <tr style=\"text-align: right;\">\n",
       "      <th></th>\n",
       "      <th>id</th>\n",
       "      <th>n_0002</th>\n",
       "      <th>n_0005</th>\n",
       "      <th>n_0007</th>\n",
       "      <th>n_0012</th>\n",
       "      <th>n_0015</th>\n",
       "      <th>n_0017</th>\n",
       "      <th>n_0020</th>\n",
       "      <th>n_0025</th>\n",
       "      <th>n_0027</th>\n",
       "      <th>...</th>\n",
       "      <th>o_03193</th>\n",
       "      <th>o_0323_1.0</th>\n",
       "      <th>o_0323_2.0</th>\n",
       "      <th>o_0323_3.0</th>\n",
       "      <th>o_0324_1.0</th>\n",
       "      <th>o_0324_2.0</th>\n",
       "      <th>o_03260</th>\n",
       "      <th>o_03261</th>\n",
       "      <th>o_03262</th>\n",
       "      <th>o_03263</th>\n",
       "    </tr>\n",
       "  </thead>\n",
       "  <tbody>\n",
       "    <tr>\n",
       "      <th>0</th>\n",
       "      <td>11193</td>\n",
       "      <td>0.025449</td>\n",
       "      <td>0.368421</td>\n",
       "      <td>0.012012</td>\n",
       "      <td>0.292683</td>\n",
       "      <td>0.036403</td>\n",
       "      <td>0.453657</td>\n",
       "      <td>0.447952</td>\n",
       "      <td>0.004454</td>\n",
       "      <td>0.136364</td>\n",
       "      <td>...</td>\n",
       "      <td>0.000387</td>\n",
       "      <td>0</td>\n",
       "      <td>0</td>\n",
       "      <td>0</td>\n",
       "      <td>1</td>\n",
       "      <td>0</td>\n",
       "      <td>-11.559747</td>\n",
       "      <td>-0.018034</td>\n",
       "      <td>-0.000986</td>\n",
       "      <td>-0.000974</td>\n",
       "    </tr>\n",
       "    <tr>\n",
       "      <th>1</th>\n",
       "      <td>11382</td>\n",
       "      <td>0.031297</td>\n",
       "      <td>0.315789</td>\n",
       "      <td>0.012012</td>\n",
       "      <td>0.243902</td>\n",
       "      <td>0.036403</td>\n",
       "      <td>0.453657</td>\n",
       "      <td>0.447952</td>\n",
       "      <td>0.004454</td>\n",
       "      <td>0.136364</td>\n",
       "      <td>...</td>\n",
       "      <td>0.000387</td>\n",
       "      <td>0</td>\n",
       "      <td>0</td>\n",
       "      <td>0</td>\n",
       "      <td>1</td>\n",
       "      <td>0</td>\n",
       "      <td>-11.559747</td>\n",
       "      <td>-0.018034</td>\n",
       "      <td>-0.000986</td>\n",
       "      <td>-0.000974</td>\n",
       "    </tr>\n",
       "    <tr>\n",
       "      <th>2</th>\n",
       "      <td>16531</td>\n",
       "      <td>0.024475</td>\n",
       "      <td>0.342105</td>\n",
       "      <td>0.012012</td>\n",
       "      <td>0.304878</td>\n",
       "      <td>0.036403</td>\n",
       "      <td>0.453657</td>\n",
       "      <td>0.447952</td>\n",
       "      <td>0.004454</td>\n",
       "      <td>0.136364</td>\n",
       "      <td>...</td>\n",
       "      <td>0.000387</td>\n",
       "      <td>0</td>\n",
       "      <td>0</td>\n",
       "      <td>0</td>\n",
       "      <td>1</td>\n",
       "      <td>0</td>\n",
       "      <td>-11.559747</td>\n",
       "      <td>-0.018034</td>\n",
       "      <td>-0.000986</td>\n",
       "      <td>-0.000974</td>\n",
       "    </tr>\n",
       "    <tr>\n",
       "      <th>3</th>\n",
       "      <td>1896</td>\n",
       "      <td>0.041694</td>\n",
       "      <td>0.447368</td>\n",
       "      <td>0.012012</td>\n",
       "      <td>0.207317</td>\n",
       "      <td>0.036403</td>\n",
       "      <td>0.453657</td>\n",
       "      <td>0.447952</td>\n",
       "      <td>0.004454</td>\n",
       "      <td>0.136364</td>\n",
       "      <td>...</td>\n",
       "      <td>0.000387</td>\n",
       "      <td>0</td>\n",
       "      <td>0</td>\n",
       "      <td>0</td>\n",
       "      <td>1</td>\n",
       "      <td>0</td>\n",
       "      <td>-11.559747</td>\n",
       "      <td>-0.018034</td>\n",
       "      <td>-0.000986</td>\n",
       "      <td>-0.000974</td>\n",
       "    </tr>\n",
       "    <tr>\n",
       "      <th>4</th>\n",
       "      <td>18262</td>\n",
       "      <td>0.038120</td>\n",
       "      <td>0.315789</td>\n",
       "      <td>0.012012</td>\n",
       "      <td>0.219512</td>\n",
       "      <td>0.036403</td>\n",
       "      <td>0.388889</td>\n",
       "      <td>0.447952</td>\n",
       "      <td>0.000000</td>\n",
       "      <td>0.136364</td>\n",
       "      <td>...</td>\n",
       "      <td>0.000387</td>\n",
       "      <td>0</td>\n",
       "      <td>0</td>\n",
       "      <td>0</td>\n",
       "      <td>1</td>\n",
       "      <td>0</td>\n",
       "      <td>-11.559747</td>\n",
       "      <td>-0.018034</td>\n",
       "      <td>-0.000986</td>\n",
       "      <td>-0.000974</td>\n",
       "    </tr>\n",
       "  </tbody>\n",
       "</table>\n",
       "<p>5 rows × 1472 columns</p>\n",
       "</div>"
      ],
      "text/plain": [
       "      id    n_0002    n_0005    n_0007    n_0012    n_0015    n_0017  \\\n",
       "0  11193  0.025449  0.368421  0.012012  0.292683  0.036403  0.453657   \n",
       "1  11382  0.031297  0.315789  0.012012  0.243902  0.036403  0.453657   \n",
       "2  16531  0.024475  0.342105  0.012012  0.304878  0.036403  0.453657   \n",
       "3   1896  0.041694  0.447368  0.012012  0.207317  0.036403  0.453657   \n",
       "4  18262  0.038120  0.315789  0.012012  0.219512  0.036403  0.388889   \n",
       "\n",
       "     n_0020    n_0025    n_0027  ...   o_03193  o_0323_1.0  o_0323_2.0  \\\n",
       "0  0.447952  0.004454  0.136364  ...  0.000387           0           0   \n",
       "1  0.447952  0.004454  0.136364  ...  0.000387           0           0   \n",
       "2  0.447952  0.004454  0.136364  ...  0.000387           0           0   \n",
       "3  0.447952  0.004454  0.136364  ...  0.000387           0           0   \n",
       "4  0.447952  0.000000  0.136364  ...  0.000387           0           0   \n",
       "\n",
       "   o_0323_3.0  o_0324_1.0  o_0324_2.0    o_03260   o_03261   o_03262   o_03263  \n",
       "0           0           1           0 -11.559747 -0.018034 -0.000986 -0.000974  \n",
       "1           0           1           0 -11.559747 -0.018034 -0.000986 -0.000974  \n",
       "2           0           1           0 -11.559747 -0.018034 -0.000986 -0.000974  \n",
       "3           0           1           0 -11.559747 -0.018034 -0.000986 -0.000974  \n",
       "4           0           1           0 -11.559747 -0.018034 -0.000986 -0.000974  \n",
       "\n",
       "[5 rows x 1472 columns]"
      ]
     },
     "execution_count": 107,
     "metadata": {},
     "output_type": "execute_result"
    }
   ],
   "source": [
    "df_med.head()"
   ]
  },
  {
   "cell_type": "code",
   "execution_count": 108,
   "id": "c0cdb038",
   "metadata": {},
   "outputs": [],
   "source": [
    "def correlation(dataset, threshold):\n",
    "    col_corr = set() # Set of all the names of deleted columns\n",
    "    corr_matrix = dataset.corr()\n",
    "    for i in range(len(corr_matrix.columns)):\n",
    "        for j in range(i):\n",
    "            if (corr_matrix.iloc[i, j] >= threshold) and (corr_matrix.columns[j] not in col_corr):\n",
    "                colname = corr_matrix.columns[i] # getting the name of column\n",
    "                col_corr.add(colname)\n",
    "                if colname in dataset.columns:\n",
    "                    del dataset[colname] # deleting the column from the dataset\n",
    "    \n",
    "correlation(df_med, 0.7)"
   ]
  },
  {
   "cell_type": "code",
   "execution_count": 28,
   "id": "c02ef84c",
   "metadata": {},
   "outputs": [],
   "source": [
    "#Используем PCA\n",
    "train_score_arr, test_score_arr = {}, {}\n",
    "for n in range(300, 850, 50):\n",
    "    pca = PCA(n_components=n)\n",
    "\n",
    "    PCA_dataset = pca.fit_transform(df_med.drop('id', axis=1))\n",
    "    df_pca = pd.concat([df_med['id'], pd.DataFrame(PCA_dataset)], axis=1)\n",
    "    train_score, test_score = fitiing_base_model(df_pca, df_target)\n",
    "    train_score_arr[n] = train_score\n",
    "    test_score_arr[n] = test_score"
   ]
  },
  {
   "cell_type": "code",
   "execution_count": 164,
   "id": "13e1ff6d",
   "metadata": {},
   "outputs": [
    {
     "name": "stdout",
     "output_type": "stream",
     "text": [
      "Среднее качество на треине 0.15109771887537293\n",
      "Среднее качество на тесте 0.33782779987993194\n"
     ]
    }
   ],
   "source": [
    "tr = 0\n",
    "mintest = float('inf')\n",
    "mintrain = 0\n",
    "for n in test_score_arr:\n",
    "    if mintest > test_score_arr[n]:\n",
    "        tr = n\n",
    "        mintest = test_score_arr[n]\n",
    "        mintrain = train_score_arr[n]\n",
    "\n",
    "print('Среднее качество на треине', mintrain)\n",
    "print('Среднее качество на тесте', mintest)"
   ]
  },
  {
   "cell_type": "code",
   "execution_count": 165,
   "id": "73143412",
   "metadata": {},
   "outputs": [
    {
     "name": "stdout",
     "output_type": "stream",
     "text": [
      "350\n"
     ]
    }
   ],
   "source": [
    "print(tr)"
   ]
  },
  {
   "cell_type": "code",
   "execution_count": 30,
   "id": "ce0a539c",
   "metadata": {},
   "outputs": [
    {
     "data": {
      "text/plain": [
       "(8000, 939)"
      ]
     },
     "execution_count": 30,
     "metadata": {},
     "output_type": "execute_result"
    }
   ],
   "source": [
    "df_med.shape"
   ]
  },
  {
   "cell_type": "markdown",
   "id": "34fd9e0f",
   "metadata": {},
   "source": [
    "можно здесь же добавить понижение при помощи эмбеддингов"
   ]
  },
  {
   "cell_type": "code",
   "execution_count": 184,
   "id": "372c54af",
   "metadata": {},
   "outputs": [
    {
     "data": {
      "text/plain": [
       "939"
      ]
     },
     "execution_count": 184,
     "metadata": {},
     "output_type": "execute_result"
    }
   ],
   "source": [
    "#Посмотрим на количество столбцов\n",
    "df_med.shape[1]"
   ]
  },
  {
   "cell_type": "code",
   "execution_count": 187,
   "id": "7b1c9ed4",
   "metadata": {},
   "outputs": [],
   "source": [
    "#Для начала преобразуем все входы в эмбеддинги 938 -> 36\n",
    "import torch\n",
    "\n",
    "\n",
    "class AE(torch.nn.Module):\n",
    "    def __init__(self):\n",
    "        super().__init__()\n",
    "         \n",
    "        # Building an linear encoder with Linear\n",
    "        # layer followed by Relu activation function\n",
    "        # 938 ==> 36\n",
    "        self.encoder = torch.nn.Sequential(\n",
    "            torch.nn.Linear(938, 512),\n",
    "            torch.nn.ReLU(),\n",
    "            torch.nn.Linear(512, 256),\n",
    "            torch.nn.ReLU(),\n",
    "            torch.nn.Linear(256, 128),\n",
    "            torch.nn.ReLU(),\n",
    "            torch.nn.Linear(128, 64),\n",
    "            torch.nn.ReLU(),\n",
    "            torch.nn.Linear(64, 36),\n",
    "        )\n",
    "        self.decoder = torch.nn.Sequential(\n",
    "            torch.nn.Linear(36, 64),\n",
    "            torch.nn.ReLU(),\n",
    "            torch.nn.Linear(64, 128),\n",
    "            torch.nn.ReLU(),\n",
    "            torch.nn.Linear(128, 256),\n",
    "            torch.nn.ReLU(),\n",
    "            torch.nn.Linear(256, 512),\n",
    "            torch.nn.ReLU(),\n",
    "            torch.nn.Linear(512, 938),\n",
    "            torch.nn.Sigmoid()\n",
    "        )\n",
    "    def forward(self, x):\n",
    "        encoded = self.encoder(x)\n",
    "        decoded = self.decoder(encoded)\n",
    "        return decoded"
   ]
  },
  {
   "cell_type": "code",
   "execution_count": 188,
   "id": "aee1c4e7",
   "metadata": {},
   "outputs": [],
   "source": [
    "# Model Initialization\n",
    "model = AE()\n",
    " \n",
    "# Validation using MSE Loss function\n",
    "loss_function = torch.nn.MSELoss()\n",
    " \n",
    "# Using an Adam Optimizer with lr = 0.1\n",
    "optimizer = torch.optim.Adam(model.parameters(),\n",
    "                             lr = 1e-1,\n",
    "                             weight_decay = 1e-8)"
   ]
  },
  {
   "cell_type": "code",
   "execution_count": 196,
   "id": "b617ac92",
   "metadata": {},
   "outputs": [
    {
     "name": "stderr",
     "output_type": "stream",
     "text": [
      "100%|██████████████████████████████████████████████████████████████████████████████████| 20/20 [00:12<00:00,  1.56it/s]\n"
     ]
    },
    {
     "data": {
      "text/plain": [
       "[<matplotlib.lines.Line2D at 0x228fedb6490>]"
      ]
     },
     "execution_count": 196,
     "metadata": {},
     "output_type": "execute_result"
    },
    {
     "data": {
      "image/png": "[encoded data removed]",
      "text/plain": [
       "<Figure size 432x288 with 1 Axes>"
      ]
     },
     "metadata": {},
     "output_type": "display_data"
    }
   ],
   "source": [
    "from tqdm import tqdm\n",
    "\n",
    "epochs = 20\n",
    "outputs = []\n",
    "losses = []\n",
    "data = torch.tensor(df_med.drop('id', axis=1).values).float()\n",
    "for epoch in tqdm(range(epochs)):\n",
    "       \n",
    "      # Output of Autoencoder\n",
    "    reconstructed = model(data)\n",
    "\n",
    "    # Calculating the loss function\n",
    "    loss = loss_function(reconstructed, data)\n",
    "\n",
    "    # The gradients are set to zero,\n",
    "    # the gradient is computed and stored.\n",
    "    # .step() performs parameter update\n",
    "    optimizer.zero_grad()\n",
    "    loss.backward()\n",
    "    optimizer.step()\n",
    "\n",
    "      # Storing the losses in a list for plotting\n",
    "    losses.append(loss.detach().numpy())\n",
    "    outputs.append((epochs, data, reconstructed))\n",
    "plt.style.use('fivethirtyeight')\n",
    "plt.xlabel('Iterations')\n",
    "plt.ylabel('Loss')\n",
    "plt.plot(losses[-100:])"
   ]
  },
  {
   "cell_type": "code",
   "execution_count": 109,
   "id": "7b0f090b",
   "metadata": {},
   "outputs": [],
   "source": [
    "from sklearn.manifold import locally_linear_embedding\n",
    "\n",
    "embed = locally_linear_embedding(df_med.drop('id', axis=1), n_neighbors=5, n_components=36)"
   ]
  },
  {
   "cell_type": "code",
   "execution_count": 113,
   "id": "b463b5f1",
   "metadata": {},
   "outputs": [
    {
     "name": "stdout",
     "output_type": "stream",
     "text": [
      "Среднее качество на треине 0.21870145915879696\n",
      "Среднее качество на тесте 0.31495916943909763\n"
     ]
    }
   ],
   "source": [
    "train_score, test_score = fitiing_base_model(pd.concat([df_med['id'], pd.DataFrame(embed[0])], axis=1), df_target)\n",
    "\n",
    "print('Среднее качество на треине', train_score)\n",
    "print('Среднее качество на тесте', test_score)"
   ]
  },
  {
   "cell_type": "code",
   "execution_count": 114,
   "id": "cbb0179a",
   "metadata": {},
   "outputs": [],
   "source": [
    "embed = locally_linear_embedding(df_med.drop('id', axis=1), n_neighbors=5, n_components=500)\n",
    "\n",
    "from sklearn.cluster import KMeans\n",
    "\n",
    "kmeans = KMeans(n_clusters=64, random_state=0).fit(embed[0])\n",
    "\n",
    "dists_columns = ['distanceto' + str(i) for i in range(64)]\n",
    "dists_df = pd.DataFrame(\n",
    "    data=kmeans.transform(embed[0]),\n",
    "    columns=dists_columns\n",
    ")\n",
    "dists_df['cluster'] = kmeans.labels_\n"
   ]
  },
  {
   "cell_type": "code",
   "execution_count": 116,
   "id": "bc588fc6",
   "metadata": {},
   "outputs": [
    {
     "name": "stdout",
     "output_type": "stream",
     "text": [
      "Среднее качество на треине 0.24417522911077597\n",
      "Среднее качество на тесте 0.33311748298444704\n"
     ]
    }
   ],
   "source": [
    "dists_df['id'] = df_med['id']\n",
    "train_score, test_score = fitiing_base_model(dists_df, df_target)\n",
    "\n",
    "print('Среднее качество на треине', train_score)\n",
    "print('Среднее качество на тесте', test_score)"
   ]
  },
  {
   "cell_type": "code",
   "execution_count": 199,
   "id": "47b97e00",
   "metadata": {},
   "outputs": [
    {
     "data": {
      "text/plain": [
       "17    2322\n",
       "23    1821\n",
       "0      965\n",
       "10     944\n",
       "8      486\n",
       "9      404\n",
       "4      184\n",
       "31     173\n",
       "2      139\n",
       "14      98\n",
       "3       58\n",
       "13      56\n",
       "25      53\n",
       "27      45\n",
       "6       38\n",
       "22      32\n",
       "24      32\n",
       "7       29\n",
       "11      22\n",
       "28      16\n",
       "1       15\n",
       "30      14\n",
       "12      12\n",
       "19       8\n",
       "26       8\n",
       "20       7\n",
       "21       5\n",
       "18       4\n",
       "5        4\n",
       "16       2\n",
       "15       2\n",
       "29       2\n",
       "Name: cluster, dtype: int64"
      ]
     },
     "execution_count": 199,
     "metadata": {},
     "output_type": "execute_result"
    }
   ],
   "source": [
    "#Попытаемся поделить данные на кластеры и для каждого кластера будем использовать расстояние до них как фичи\n",
    "from sklearn.cluster import KMeans\n",
    "\n",
    "kmeans = KMeans(n_clusters=32, random_state=0).fit(df_med.drop('id', axis=1).values)\n",
    "df_cluster = df_med.copy()\n",
    "df_cluster['cluster'] = kmeans.labels_\n",
    "\n",
    "df_cluster['cluster'].value_counts()"
   ]
  },
  {
   "cell_type": "code",
   "execution_count": 200,
   "id": "e0d90910",
   "metadata": {},
   "outputs": [],
   "source": [
    "dists_columns = ['distanceto' + str(i) for i in range(32)]\n",
    "dists_df = pd.DataFrame(\n",
    "    data=kmeans.transform(df_med.drop('id', axis=1).values),\n",
    "    columns=dists_columns\n",
    ")\n",
    "dists_df['cluster'] = kmeans.labels_"
   ]
  },
  {
   "cell_type": "code",
   "execution_count": 201,
   "id": "a79868bd",
   "metadata": {},
   "outputs": [
    {
     "data": {
      "text/html": [
       "<div>\n",
       "<style scoped>\n",
       "    .dataframe tbody tr th:only-of-type {\n",
       "        vertical-align: middle;\n",
       "    }\n",
       "\n",
       "    .dataframe tbody tr th {\n",
       "        vertical-align: top;\n",
       "    }\n",
       "\n",
       "    .dataframe thead th {\n",
       "        text-align: right;\n",
       "    }\n",
       "</style>\n",
       "<table border=\"1\" class=\"dataframe\">\n",
       "  <thead>\n",
       "    <tr style=\"text-align: right;\">\n",
       "      <th></th>\n",
       "      <th>distanceto0</th>\n",
       "      <th>distanceto1</th>\n",
       "      <th>distanceto2</th>\n",
       "      <th>distanceto3</th>\n",
       "      <th>distanceto4</th>\n",
       "      <th>distanceto5</th>\n",
       "      <th>distanceto6</th>\n",
       "      <th>distanceto7</th>\n",
       "      <th>distanceto8</th>\n",
       "      <th>distanceto9</th>\n",
       "      <th>...</th>\n",
       "      <th>distanceto23</th>\n",
       "      <th>distanceto24</th>\n",
       "      <th>distanceto25</th>\n",
       "      <th>distanceto26</th>\n",
       "      <th>distanceto27</th>\n",
       "      <th>distanceto28</th>\n",
       "      <th>distanceto29</th>\n",
       "      <th>distanceto30</th>\n",
       "      <th>distanceto31</th>\n",
       "      <th>cluster</th>\n",
       "    </tr>\n",
       "  </thead>\n",
       "  <tbody>\n",
       "    <tr>\n",
       "      <th>0</th>\n",
       "      <td>1158.757913</td>\n",
       "      <td>10308.004784</td>\n",
       "      <td>2184.890186</td>\n",
       "      <td>3570.769435</td>\n",
       "      <td>1764.062277</td>\n",
       "      <td>9178.431543</td>\n",
       "      <td>3627.118942</td>\n",
       "      <td>4014.283513</td>\n",
       "      <td>1053.936404</td>\n",
       "      <td>1398.246933</td>\n",
       "      <td>...</td>\n",
       "      <td>1064.633478</td>\n",
       "      <td>4828.255038</td>\n",
       "      <td>3091.622483</td>\n",
       "      <td>4353.631974</td>\n",
       "      <td>2134.944351</td>\n",
       "      <td>6097.128169</td>\n",
       "      <td>6706.759712</td>\n",
       "      <td>4070.352005</td>\n",
       "      <td>1730.354770</td>\n",
       "      <td>10</td>\n",
       "    </tr>\n",
       "    <tr>\n",
       "      <th>1</th>\n",
       "      <td>2328.430968</td>\n",
       "      <td>10536.283689</td>\n",
       "      <td>2936.952418</td>\n",
       "      <td>3616.225195</td>\n",
       "      <td>3165.649901</td>\n",
       "      <td>9412.048018</td>\n",
       "      <td>4153.316209</td>\n",
       "      <td>4485.342977</td>\n",
       "      <td>2356.793875</td>\n",
       "      <td>2367.509649</td>\n",
       "      <td>...</td>\n",
       "      <td>2231.856228</td>\n",
       "      <td>5248.819202</td>\n",
       "      <td>3661.109612</td>\n",
       "      <td>4771.867713</td>\n",
       "      <td>2457.018149</td>\n",
       "      <td>6414.249686</td>\n",
       "      <td>7131.921433</td>\n",
       "      <td>5081.690930</td>\n",
       "      <td>2676.794673</td>\n",
       "      <td>23</td>\n",
       "    </tr>\n",
       "    <tr>\n",
       "      <th>2</th>\n",
       "      <td>1354.269041</td>\n",
       "      <td>10152.716047</td>\n",
       "      <td>2277.135302</td>\n",
       "      <td>2934.142602</td>\n",
       "      <td>2554.509063</td>\n",
       "      <td>9108.994284</td>\n",
       "      <td>3612.459302</td>\n",
       "      <td>4105.696009</td>\n",
       "      <td>1405.134574</td>\n",
       "      <td>1446.620328</td>\n",
       "      <td>...</td>\n",
       "      <td>1208.402843</td>\n",
       "      <td>4808.928318</td>\n",
       "      <td>3373.489528</td>\n",
       "      <td>4334.749140</td>\n",
       "      <td>2218.127670</td>\n",
       "      <td>6038.226521</td>\n",
       "      <td>6798.884419</td>\n",
       "      <td>4849.692476</td>\n",
       "      <td>1934.536782</td>\n",
       "      <td>17</td>\n",
       "    </tr>\n",
       "    <tr>\n",
       "      <th>3</th>\n",
       "      <td>1406.865361</td>\n",
       "      <td>10370.923579</td>\n",
       "      <td>2341.821311</td>\n",
       "      <td>3205.296657</td>\n",
       "      <td>2411.399094</td>\n",
       "      <td>9139.948002</td>\n",
       "      <td>3745.038834</td>\n",
       "      <td>4135.639397</td>\n",
       "      <td>1348.906112</td>\n",
       "      <td>1640.540348</td>\n",
       "      <td>...</td>\n",
       "      <td>1423.353515</td>\n",
       "      <td>4910.366385</td>\n",
       "      <td>3192.496217</td>\n",
       "      <td>4460.675460</td>\n",
       "      <td>2286.118544</td>\n",
       "      <td>6151.521941</td>\n",
       "      <td>6824.796435</td>\n",
       "      <td>4715.060002</td>\n",
       "      <td>1961.524960</td>\n",
       "      <td>8</td>\n",
       "    </tr>\n",
       "    <tr>\n",
       "      <th>4</th>\n",
       "      <td>2991.281375</td>\n",
       "      <td>10717.269188</td>\n",
       "      <td>3417.343671</td>\n",
       "      <td>3931.443013</td>\n",
       "      <td>3767.556303</td>\n",
       "      <td>9515.787875</td>\n",
       "      <td>4533.260191</td>\n",
       "      <td>4862.391619</td>\n",
       "      <td>2734.903410</td>\n",
       "      <td>2951.016634</td>\n",
       "      <td>...</td>\n",
       "      <td>2822.275999</td>\n",
       "      <td>5552.325992</td>\n",
       "      <td>4071.903501</td>\n",
       "      <td>5003.978238</td>\n",
       "      <td>3379.531983</td>\n",
       "      <td>6641.413365</td>\n",
       "      <td>7179.568064</td>\n",
       "      <td>5248.549029</td>\n",
       "      <td>3222.049821</td>\n",
       "      <td>8</td>\n",
       "    </tr>\n",
       "  </tbody>\n",
       "</table>\n",
       "<p>5 rows × 33 columns</p>\n",
       "</div>"
      ],
      "text/plain": [
       "   distanceto0   distanceto1  distanceto2  distanceto3  distanceto4  \\\n",
       "0  1158.757913  10308.004784  2184.890186  3570.769435  1764.062277   \n",
       "1  2328.430968  10536.283689  2936.952418  3616.225195  3165.649901   \n",
       "2  1354.269041  10152.716047  2277.135302  2934.142602  2554.509063   \n",
       "3  1406.865361  10370.923579  2341.821311  3205.296657  2411.399094   \n",
       "4  2991.281375  10717.269188  3417.343671  3931.443013  3767.556303   \n",
       "\n",
       "   distanceto5  distanceto6  distanceto7  distanceto8  distanceto9  ...  \\\n",
       "0  9178.431543  3627.118942  4014.283513  1053.936404  1398.246933  ...   \n",
       "1  9412.048018  4153.316209  4485.342977  2356.793875  2367.509649  ...   \n",
       "2  9108.994284  3612.459302  4105.696009  1405.134574  1446.620328  ...   \n",
       "3  9139.948002  3745.038834  4135.639397  1348.906112  1640.540348  ...   \n",
       "4  9515.787875  4533.260191  4862.391619  2734.903410  2951.016634  ...   \n",
       "\n",
       "   distanceto23  distanceto24  distanceto25  distanceto26  distanceto27  \\\n",
       "0   1064.633478   4828.255038   3091.622483   4353.631974   2134.944351   \n",
       "1   2231.856228   5248.819202   3661.109612   4771.867713   2457.018149   \n",
       "2   1208.402843   4808.928318   3373.489528   4334.749140   2218.127670   \n",
       "3   1423.353515   4910.366385   3192.496217   4460.675460   2286.118544   \n",
       "4   2822.275999   5552.325992   4071.903501   5003.978238   3379.531983   \n",
       "\n",
       "   distanceto28  distanceto29  distanceto30  distanceto31  cluster  \n",
       "0   6097.128169   6706.759712   4070.352005   1730.354770       10  \n",
       "1   6414.249686   7131.921433   5081.690930   2676.794673       23  \n",
       "2   6038.226521   6798.884419   4849.692476   1934.536782       17  \n",
       "3   6151.521941   6824.796435   4715.060002   1961.524960        8  \n",
       "4   6641.413365   7179.568064   5248.549029   3222.049821        8  \n",
       "\n",
       "[5 rows x 33 columns]"
      ]
     },
     "execution_count": 201,
     "metadata": {},
     "output_type": "execute_result"
    }
   ],
   "source": [
    "dists_df.head()"
   ]
  },
  {
   "cell_type": "code",
   "execution_count": 205,
   "id": "cc4bea8a",
   "metadata": {},
   "outputs": [],
   "source": [
    "from sklearn.svm import SVC\n",
    "from sklearn.model_selection import GridSearchCV\n",
    "\n",
    "\n",
    "def svm_model(df, df_target):\n",
    "    for col in df_target.drop('id', axis=1).columns:\n",
    "        df_train, df_test = train_test_split(\n",
    "            df,\n",
    "            test_size=0.25\n",
    "        )\n",
    "        \n",
    "        svm = SVC()\n",
    "        svm_parameters_grid = {\n",
    "            'C': [1, 0.5],\n",
    "            'kernel': ['linear', 'sigmoid']\n",
    "        }\n",
    "        custom_cv = [(df_train.index.to_list(), df_test.index.to_list())]\n",
    "        \n",
    "        search_svm = GridSearchCV(\n",
    "            svm,\n",
    "            svm_parameters_grid,\n",
    "            return_train_score=True\n",
    "        )\n",
    "        train = df_train.merge(df_target[['id', col]], on='id', how='inner')\n",
    "        X, y = train.drop([col, 'id'], axis=1), train[col]\n",
    "        \n",
    "        search_svm.fit(X, y)\n",
    "        svm = SVC(**search_svm.best_params_)\n",
    "        svm.fit(X, y, verbose=False)\n",
    "        \n",
    "        scores_train.append(log_loss(y, svm.predict(X)))\n",
    "        test = df_test.merge(df_target[['id', col]], on='id', how='inner')\n",
    "        X, y = test.drop([col, 'id'], axis=1), test[col]\n",
    "        scores_test.append(log_loss(y, svm.predict(X)))\n",
    "    return (np.mean(scores_train), np.mean(scores_test))\n",
    "    "
   ]
  },
  {
   "cell_type": "code",
   "execution_count": null,
   "id": "5eb1494e",
   "metadata": {},
   "outputs": [],
   "source": [
    "train_score, test_score = svm_model(df_med, df_target)"
   ]
  },
  {
   "cell_type": "code",
   "execution_count": null,
   "id": "bce59920",
   "metadata": {},
   "outputs": [],
   "source": [
    "print('Среднее качество на треине', train_score)\n",
    "print('Среднее качество на тесте', test_score)"
   ]
  },
  {
   "cell_type": "code",
   "execution_count": null,
   "id": "319250b6",
   "metadata": {},
   "outputs": [],
   "source": [
    "from sklearn.neighbors import KNeighborsClassifier\n",
    "\n",
    "\n",
    "def gaussian_kernel(distances, h=1):\n",
    "        return np.exp(- distances**2 / h**2)\n",
    "\n",
    "    \n",
    "def knn_model(df, df_target):\n",
    "    for col in df_target.drop('id', axis=1).columns:\n",
    "        df_train, df_test = train_test_split(\n",
    "            df,\n",
    "            test_size=0.25\n",
    "        )\n",
    "        parameters_grid = {\n",
    "        'n_neighbors': [5, 10, 20],\n",
    "        'weights': ['uniform', 'distance', gaussian_kernel],\n",
    "        'p': (2, 1),\n",
    "        }\n",
    "\n",
    "        custom_cv = [(df_train.index.to_list(), df_test.index.to_list())]\n",
    "\n",
    "        search_baseline = GridSearchCV(\n",
    "            KNeighborsClassifier(),\n",
    "            parameters_grid,\n",
    "            scoring=\"accuracy\",\n",
    "            cv=custom_cv,\n",
    "            verbose=10,\n",
    "            return_train_score=True\n",
    "        )\n",
    "        \n",
    "        train = df_train.merge(df_target[['id', col]], on='id', how='inner')\n",
    "        X, y = train.drop([col, 'id'], axis=1), train[col]\n",
    "        \n",
    "        search_baseline.fit(X, y)\n",
    "        knn = SVC(**search_baseline.best_params_)\n",
    "        knn.fit(X, y, verbose=False)\n",
    "        \n",
    "        scores_train.append(log_loss(y, knn.predict(X)))\n",
    "        test = df_test.merge(df_target[['id', col]], on='id', how='inner')\n",
    "        X, y = test.drop([col, 'id'], axis=1), test[col]\n",
    "        scores_test.append(log_loss(y, knn.predict(X)))\n",
    "        "
   ]
  },
  {
   "cell_type": "code",
   "execution_count": null,
   "id": "66dd16b5",
   "metadata": {},
   "outputs": [],
   "source": [
    "train_score, test_score = knn_model(df_med, df_target)\n",
    "\n",
    "print('Среднее качество на треине', train_score)\n",
    "print('Среднее качество на тесте', test_score)"
   ]
  },
  {
   "cell_type": "code",
   "execution_count": 127,
   "id": "0855db2b",
   "metadata": {},
   "outputs": [],
   "source": [
    "def fitiing_stack_model(df, df_target, cat_features=[]):\n",
    "    model = CatBoostClassifier(iterations=50, cat_features=cat_features)\n",
    "    df_train, df_test = train_test_split(\n",
    "            df,\n",
    "            test_size=0.25\n",
    "        )\n",
    "    for col in df_target.drop('id', axis=1).columns:\n",
    "        train = df_train.merge(df_target[['id', col]], on='id', how='inner')\n",
    "        X_train, y_train = train.drop([col, 'id'], axis=1), train[col]\n",
    "        model.fit(X_train, y_train, verbose=False)\n",
    "        scores_train.append(log_loss(y_train, model.predict_proba(X_train)[:, 1]))\n",
    "        test = df_test.merge(df_target[['id', col]], on='id', how='inner')\n",
    "        X_test, y_test = test.drop([col, 'id'], axis=1), test[col]\n",
    "        scores_test.append(log_loss(y_test, model.predict_proba(X_test)[:, 1]))\n",
    "        df_train[col] = model.predict_proba(X_train)[:, 1]\n",
    "        df_test[col] = model.predict_proba(X_test)[:, 1]\n",
    "    return (np.mean(scores_train), np.mean(scores_test))"
   ]
  },
  {
   "cell_type": "code",
   "execution_count": 128,
   "id": "f58d56a0",
   "metadata": {},
   "outputs": [
    {
     "name": "stdout",
     "output_type": "stream",
     "text": [
      "Среднее качество на треине 0.2309097430994461\n",
      "Среднее качество на тесте 0.3281247444918077\n"
     ]
    }
   ],
   "source": [
    "train_score, test_score = fitiing_stack_model(df_med, df_target)\n",
    "\n",
    "print('Среднее качество на треине', train_score)\n",
    "print('Среднее качество на тесте', test_score)"
   ]
  },
  {
   "cell_type": "code",
   "execution_count": null,
   "id": "d476b041",
   "metadata": {},
   "outputs": [],
   "source": []
  }
 ],
 "metadata": {
  "kernelspec": {
   "display_name": "Python 3 (ipykernel)",
   "language": "python",
   "name": "python3"
  },
  "language_info": {
   "codemirror_mode": {
    "name": "ipython",
    "version": 3
   },
   "file_extension": ".py",
   "mimetype": "text/x-python",
   "name": "python",
   "nbconvert_exporter": "python",
   "pygments_lexer": "ipython3",
   "version": "3.9.12"
  }
 },
 "nbformat": 4,
 "nbformat_minor": 5
}
